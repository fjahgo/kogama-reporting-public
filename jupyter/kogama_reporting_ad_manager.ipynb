{
 "cells": [
  {
   "cell_type": "code",
   "execution_count": 9,
   "metadata": {},
   "outputs": [],
   "source": [
    "# Import libraries and stuff\n",
    "from googleads import ad_manager\n",
    "from googleads import errors\n",
    "from datetime import date, datetime,timedelta\n",
    "import tempfile\n",
    "import pandas as pd\n",
    "import io\n",
    "import gzip\n",
    "\n",
    "# Initialize a client object, by default uses the credentials in ~/googleads.yaml.\n",
    "client = ad_manager.AdManagerClient.LoadFromStorage()\n",
    "\n",
    "# Initialize a DataDownloader.\n",
    "report_downloader = client.GetDataDownloader(version='v201902')\n",
    "\n",
    "# Initialize a ReportService\n",
    "report_service = client.GetService('ReportService', version='v201902')"
   ]
  },
  {
   "cell_type": "code",
   "execution_count": 10,
   "metadata": {},
   "outputs": [],
   "source": [
    "# Set the start and end dates of the report to run (past 8 days).\n",
    "start_date = date(2018,1,1)\n",
    "#start_date = end_date - timedelta(days=2)\n",
    "end_date = date.today()\n",
    "\n",
    "report_job = {\n",
    "      'reportQuery': {\n",
    "          'dimensions': ['DATE', 'DEVICE_CATEGORY_NAME', 'PLACEMENT_NAME'],\n",
    "          'columns': ['TOTAL_LINE_ITEM_LEVEL_IMPRESSIONS','TOTAL_LINE_ITEM_LEVEL_ALL_REVENUE'],\n",
    "          'adUnitView': 'HIERARCHICHAL',\n",
    "          'dateRangeType': 'CUSTOM_DATE',\n",
    "          'startDate': start_date,\n",
    "          'endDate': end_date\n",
    "      }\n",
    "  }\n",
    "\n",
    "try:\n",
    "    # Run the report and wait for it to finish.\n",
    "    report_job_id = report_downloader.WaitForReport(report_job)\n",
    "except errors.AdManagerReportError as e:\n",
    "    print('Failed to generate report. Error was: %s' % e)"
   ]
  },
  {
   "cell_type": "code",
   "execution_count": 11,
   "metadata": {},
   "outputs": [],
   "source": [
    "# Change to your preferred export format.\n",
    "# Note that file downloads in zipped format\n",
    "export_format = 'CSV_DUMP'\n",
    "\n",
    "# Name a temp file. Requires import of \"tempfile\"\n",
    "report_file = tempfile.NamedTemporaryFile(suffix='.csv', delete=False)\n",
    "\n",
    "# Download report data.\n",
    "report_downloader.DownloadReportToFile(report_job_id, export_format, report_file)\n",
    "\n",
    "report_file.seek(0)\n",
    "\n",
    "with open(report_file.name, 'rb') as fd:\n",
    "    gzip_fd = gzip.GzipFile(fileobj=fd)\n",
    "    df = pd.read_csv(gzip_fd)"
   ]
  },
  {
   "cell_type": "code",
   "execution_count": 12,
   "metadata": {},
   "outputs": [
    {
     "data": {
      "text/plain": [
       "<Worksheet 'Jupyter AdManager Data' id:876617695>"
      ]
     },
     "execution_count": 12,
     "metadata": {},
     "output_type": "execute_result"
    }
   ],
   "source": [
    "# Pass data on to google sheet\n",
    "\n",
    "import gspread\n",
    "from oauth2client.service_account import ServiceAccountCredentials\n",
    "from df2gspread import df2gspread as d2g\n",
    "from pandas.io.json import json_normalize\n",
    "\n",
    "# GOOGLE SHEETS\n",
    "# Credentials and stuff\n",
    "scope = ['https://spreadsheets.google.com/feeds']\n",
    "credentials = ServiceAccountCredentials.from_json_keyfile_name('./[Path to JSON keyfile].json', scope)\n",
    "gc = gspread.authorize(credentials)\n",
    "spreadsheet_key = '[Key of your spreadsheet]'\n",
    "\n",
    "# Arrange data\n",
    "df = df.groupby(['Dimension.DATE','Dimension.PLACEMENT_NAME','Dimension.DEVICE_CATEGORY_NAME'],as_index=False).sum()\n",
    "df['platform'] = \"desktop\"\n",
    "df = df[['Dimension.DATE','platform','Dimension.PLACEMENT_NAME','Column.TOTAL_LINE_ITEM_LEVEL_IMPRESSIONS','Column.TOTAL_LINE_ITEM_LEVEL_ALL_REVENUE','Dimension.DEVICE_CATEGORY_NAME']]\n",
    "\n",
    "# Pick worksheet to insert into\n",
    "wks_name = 'Jupyter AdManager Data'\n",
    "\n",
    "# Upload the whole thing to our google sheet\n",
    "d2g.upload(df, spreadsheet_key, wks_name, credentials=credentials, clean=True,row_names=False,col_names=False)"
   ]
  }
 ],
 "metadata": {
  "kernelspec": {
   "display_name": "Python 3",
   "language": "python",
   "name": "python3"
  },
  "language_info": {
   "codemirror_mode": {
    "name": "ipython",
    "version": 3
   },
   "file_extension": ".py",
   "mimetype": "text/x-python",
   "name": "python",
   "nbconvert_exporter": "python",
   "pygments_lexer": "ipython3",
   "version": "3.6.8"
  }
 },
 "nbformat": 4,
 "nbformat_minor": 2
}
