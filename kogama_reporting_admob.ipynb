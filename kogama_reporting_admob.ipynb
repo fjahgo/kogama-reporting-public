{
 "cells": [
  {
   "cell_type": "code",
   "execution_count": 5,
   "metadata": {},
   "outputs": [
    {
     "name": "stdout",
     "output_type": "stream",
     "text": [
      "Google credentials ok.\n",
      "Data uploaded to sheet.\n"
     ]
    }
   ],
   "source": [
    "#!/usr/bin/python\n",
    "#\n",
    "# Copyright 2014 Google Inc. All Rights Reserved.\n",
    "#\n",
    "# Licensed under the Apache License, Version 2.0 (the \"License\");\n",
    "# you may not use this file except in compliance with the License.\n",
    "# You may obtain a copy of the License at\n",
    "#\n",
    "#      http://www.apache.org/licenses/LICENSE-2.0\n",
    "#\n",
    "# Unless required by applicable law or agreed to in writing, software\n",
    "# distributed under the License is distributed on an \"AS IS\" BASIS,\n",
    "# WITHOUT WARRANTIES OR CONDITIONS OF ANY KIND, either express or implied.\n",
    "# See the License for the specific language governing permissions and\n",
    "# limitations under the License.\n",
    "\n",
    "# Based on Google sample code.\n",
    "# Collect AdMob revenue reporting data from AdSense and inserts data into a google sheet for charting purposes.\n",
    "\n",
    "import pandas as pd\n",
    "import sys\n",
    "import json\n",
    "import gspread\n",
    "from apiclient import sample_tools\n",
    "from oauth2client import client\n",
    "from datetime import date, datetime,timedelta\n",
    "from pandas.io.json import json_normalize\n",
    "from oauth2client.service_account import ServiceAccountCredentials\n",
    "from df2gspread import df2gspread as d2g\n",
    "\n",
    "# Authenticate and construct service.\n",
    "service, flags = sample_tools.init(argv='',\n",
    "  name='adsense', version='v1.4',doc='doc', filename='file', parents=[],\n",
    "  scope='https://www.googleapis.com/auth/adsense.readonly')\n",
    "\n",
    "# The AdMob Mediation Bill is passed. The system goes online on August 18th, 2019.\n",
    "# Human decisions are removed from strategic defense. AdMob begins to learn at a geometric rate.\n",
    "start_date = \"2019-08-18\"\n",
    "end_date = str(date.today())\n",
    "\n",
    "try:\n",
    "    # Let the user pick account if more than one.\n",
    "    account_id = '[YourAccountID]'\n",
    "    \n",
    "    # Retrieve report.\n",
    "    result = service.accounts().reports().generate(accountId=account_id, startDate=start_date, endDate=end_date,\n",
    "                                                       metric=['VIEWED_IMPRESSIONS', 'EARNINGS'],\n",
    "                                                       dimension=['DATE','AD_UNIT_NAME'],\n",
    "                                                      sort=['+DATE']).execute()\n",
    "except client.AccessTokenRefreshError:\n",
    "    print ('The credentials have been revoked or expired, please re-run the application to re-authorize')\n",
    "\n",
    "df = pd.DataFrame(result['rows'])\n",
    "df.columns=['date','ad_format','impressions','revenue_DKK']\n",
    "\n",
    "\n",
    "# Google Sheets credentials and stuff\n",
    "scope = ['https://spreadsheets.google.com/feeds']\n",
    "credentials = ServiceAccountCredentials.from_json_keyfile_name('./credentials/service_account_credentials.json', scope)\n",
    "gc = gspread.authorize(credentials)\n",
    "\n",
    "print('Google credentials ok.')\n",
    "\n",
    "# Load settings from file.\n",
    "with open('./credentials/api_credentials.json') as json_file:\n",
    "    data = json.load(json_file)\n",
    "spreadsheet_key = data['spreadsheet_key']\n",
    "\n",
    "# Arrange data\n",
    "df['platform'] = \"mobile\"\n",
    "df['provider'] = \"admob\"\n",
    "df = df[['date','provider','platform','ad_format','impressions','revenue_DKK']]\n",
    "\n",
    "# Pick worksheet to insert into\n",
    "wks_name = 'Jupyter AdMob Data'\n",
    "\n",
    "# Upload the whole thing to our google sheet.\n",
    "d2g.upload(df, spreadsheet_key, wks_name, credentials=credentials, clean=True,row_names=False,col_names=False)\n",
    "\n",
    "print ('Data uploaded to sheet.')\n"
   ]
  },
  {
   "cell_type": "code",
   "execution_count": null,
   "metadata": {},
   "outputs": [],
   "source": []
  }
 ],
 "metadata": {
  "kernelspec": {
   "display_name": "Python 3",
   "language": "python",
   "name": "python3"
  },
  "language_info": {
   "codemirror_mode": {
    "name": "ipython",
    "version": 3
   },
   "file_extension": ".py",
   "mimetype": "text/x-python",
   "name": "python",
   "nbconvert_exporter": "python",
   "pygments_lexer": "ipython3",
   "version": "3.6.8"
  }
 },
 "nbformat": 4,
 "nbformat_minor": 2
}
