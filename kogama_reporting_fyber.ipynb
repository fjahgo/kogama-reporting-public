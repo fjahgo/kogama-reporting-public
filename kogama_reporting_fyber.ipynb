{
 "cells": [
  {
   "cell_type": "code",
   "execution_count": 1,
   "metadata": {},
   "outputs": [
    {
     "name": "stdout",
     "output_type": "stream",
     "text": [
      "Response from Fyber: <Response [200]>\n",
      "Google credentials ok.\n",
      "Data inserted at cell: A1183\n",
      "Data uploaded to sheet.\n"
     ]
    }
   ],
   "source": [
    "import pandas as pd\n",
    "import gspread\n",
    "import requests\n",
    "import base64\n",
    "import json\n",
    "from oauth2client.service_account import ServiceAccountCredentials\n",
    "from df2gspread import df2gspread as d2g\n",
    "from pandas.io.json import json_normalize\n",
    "from datetime import date, datetime, timedelta\n",
    "\n",
    "# Load credentials and API settings from file.\n",
    "with open('./credentials/api_credentials.json') as json_file:\n",
    "    data = json.load(json_file)\n",
    "spreadsheet_key = data['spreadsheet_key']\n",
    "fyber_credentials = data['fyber']\n",
    "\n",
    "# FYBER credentials and stuff.\n",
    "endpoint = \"https://api.fyber.com/publishers/v2/reporting/publisher-kpis\"\n",
    "encodedBytes = base64.b64encode(fyber_credentials.encode(\"utf-8\"))\n",
    "encodedString = str(encodedBytes, \"utf-8\")\n",
    "basicCredentials = \"Basic \" + encodedString\n",
    "\n",
    "# Define date range to get data for (recent days are not complete on date, so just get the past 7 days) \n",
    "since = datetime.today() - timedelta(days=7)\n",
    "until = date.today()\n",
    "\n",
    "# paramaters for request to Fyber.\n",
    "parameters = {'since':since,'until':until}\n",
    "\n",
    "# Check output.\n",
    "response = requests.get(endpoint, headers={'Authorization': basicCredentials}, params = parameters)\n",
    "print('Response from Fyber: ' + str(response))\n",
    "\n",
    "# GOOGLE SHEETS\n",
    "# Credentials and stuff\n",
    "scope = ['https://spreadsheets.google.com/feeds']\n",
    "credentials = ServiceAccountCredentials.from_json_keyfile_name('./credentials/service_account_credentials.json', scope)\n",
    "gc = gspread.authorize(credentials)\n",
    "\n",
    "print('Google credentials ok.')\n",
    "\n",
    "# Extract JSON, select relevant data.\n",
    "df = response.json()\n",
    "df = json_normalize(df['data'])\n",
    "df = df[['date','ad_format','impressions','revenue_eur']] \n",
    "\n",
    "# Arrange said data\n",
    "df = df.groupby(['date','ad_format'],as_index=False).sum()\n",
    "df['platform'] = \"mobile\"\n",
    "df = df[['date','platform','ad_format','impressions','revenue_eur']]\n",
    "\n",
    "# Pick worksheet to insert into\n",
    "wks_name = 'Jupyter Manipulated Data'\n",
    "\n",
    "#define offset based on dawn of time that we care about\n",
    "dawnOfTime = date(2018,1,1)\n",
    "firstDateInDataframe = datetime.strptime(df['date'][1], '%Y-%m-%d').date()    \n",
    "rowOffset = firstDateInDataframe - dawnOfTime\n",
    "rowOffset = rowOffset.days\n",
    "\n",
    "# Fyber limits API calls to 30 days of data, so offset insertion based on first date of dataframe\n",
    "startCell = 'A'+str(rowOffset*2+1) # times two because we have two rows per date\n",
    "\n",
    "print('Data inserted at cell: ' + startCell)\n",
    "\n",
    "# Upload the whole thing to our google sheet\n",
    "d2g.upload(df, spreadsheet_key, wks_name, credentials=credentials, clean=False,start_cell=startCell,row_names=False,col_names=False)\n",
    "\n",
    "print ('Data uploaded to sheet.')"
   ]
  },
  {
   "cell_type": "code",
   "execution_count": null,
   "metadata": {},
   "outputs": [],
   "source": []
  }
 ],
 "metadata": {
  "kernelspec": {
   "display_name": "Python 3",
   "language": "python",
   "name": "python3"
  },
  "language_info": {
   "codemirror_mode": {
    "name": "ipython",
    "version": 3
   },
   "file_extension": ".py",
   "mimetype": "text/x-python",
   "name": "python",
   "nbconvert_exporter": "python",
   "pygments_lexer": "ipython3",
   "version": "3.6.8"
  }
 },
 "nbformat": 4,
 "nbformat_minor": 2
}
